{
  "nbformat": 4,
  "nbformat_minor": 0,
  "metadata": {
    "colab": {
      "provenance": [],
      "authorship_tag": "ABX9TyOfraY0gqS2Z5bz1eNr9v5M",
      "include_colab_link": true
    },
    "kernelspec": {
      "name": "python3",
      "display_name": "Python 3"
    },
    "language_info": {
      "name": "python"
    }
  },
  "cells": [
    {
      "cell_type": "markdown",
      "metadata": {
        "id": "view-in-github",
        "colab_type": "text"
      },
      "source": [
        "<a href=\"https://colab.research.google.com/github/KEIEK10/AI_learning/blob/main/simple_deep_learning.ipynb\" target=\"_parent\"><img src=\"https://colab.research.google.com/assets/colab-badge.svg\" alt=\"Open In Colab\"/></a>"
      ]
    },
    {
      "cell_type": "markdown",
      "source": [
        "#シンプルなディープラーニング"
      ],
      "metadata": {
        "id": "4aL119DLvKsA"
      }
    },
    {
      "cell_type": "markdown",
      "source": [
        "##データの読み込み"
      ],
      "metadata": {
        "id": "ImVqZUO6vW8F"
      }
    },
    {
      "cell_type": "code",
      "execution_count": 2,
      "metadata": {
        "colab": {
          "base_uri": "https://localhost:8080/"
        },
        "id": "nwxMrIBdu-Ni",
        "outputId": "b1e91a05-4b06-4de5-e1be-500de56034dd"
      },
      "outputs": [
        {
          "output_type": "stream",
          "name": "stdout",
          "text": [
            "[[5.1 3.5 1.4 0.2]\n",
            " [4.9 3.  1.4 0.2]\n",
            " [4.7 3.2 1.3 0.2]\n",
            " [4.6 3.1 1.5 0.2]\n",
            " [5.  3.6 1.4 0.2]\n",
            " [5.4 3.9 1.7 0.4]\n",
            " [4.6 3.4 1.4 0.3]\n",
            " [5.  3.4 1.5 0.2]\n",
            " [4.4 2.9 1.4 0.2]\n",
            " [4.9 3.1 1.5 0.1]]\n",
            "[0 0 0 0 0 0 0 0 0 0]\n",
            "(150, 4)\n"
          ]
        }
      ],
      "source": [
        "import numpy as np\n",
        "from sklearn import datasets\n",
        "\n",
        "iris = datasets.load_iris()\n",
        "print(iris.data[:10])\n",
        "print(iris.target[:10])\n",
        "print(iris.data.shape)"
      ]
    },
    {
      "cell_type": "code",
      "source": [
        "from sklearn import preprocessing\n",
        "from keras.utils import np_utils\n",
        "\n",
        "scaler = preprocessing.StandardScaler()\n",
        "scaler.fit(iris.data)\n",
        "x = scaler.transform(iris.data)\n",
        "print(x[:10])\n",
        "\n",
        "t = np_utils.to_categorical(iris.target)\n",
        "print(t[:30])"
      ],
      "metadata": {
        "colab": {
          "base_uri": "https://localhost:8080/"
        },
        "id": "QnDLqImnwdcY",
        "outputId": "7eab1f7b-c574-4755-8155-fa5cc31a0df5"
      },
      "execution_count": 4,
      "outputs": [
        {
          "output_type": "stream",
          "name": "stdout",
          "text": [
            "[[-0.90068117  1.01900435 -1.34022653 -1.3154443 ]\n",
            " [-1.14301691 -0.13197948 -1.34022653 -1.3154443 ]\n",
            " [-1.38535265  0.32841405 -1.39706395 -1.3154443 ]\n",
            " [-1.50652052  0.09821729 -1.2833891  -1.3154443 ]\n",
            " [-1.02184904  1.24920112 -1.34022653 -1.3154443 ]\n",
            " [-0.53717756  1.93979142 -1.16971425 -1.05217993]\n",
            " [-1.50652052  0.78880759 -1.34022653 -1.18381211]\n",
            " [-1.02184904  0.78880759 -1.2833891  -1.3154443 ]\n",
            " [-1.74885626 -0.36217625 -1.34022653 -1.3154443 ]\n",
            " [-1.14301691  0.09821729 -1.2833891  -1.44707648]]\n",
            "[[1. 0. 0.]\n",
            " [1. 0. 0.]\n",
            " [1. 0. 0.]\n",
            " [1. 0. 0.]\n",
            " [1. 0. 0.]\n",
            " [1. 0. 0.]\n",
            " [1. 0. 0.]\n",
            " [1. 0. 0.]\n",
            " [1. 0. 0.]\n",
            " [1. 0. 0.]\n",
            " [1. 0. 0.]\n",
            " [1. 0. 0.]\n",
            " [1. 0. 0.]\n",
            " [1. 0. 0.]\n",
            " [1. 0. 0.]\n",
            " [1. 0. 0.]\n",
            " [1. 0. 0.]\n",
            " [1. 0. 0.]\n",
            " [1. 0. 0.]\n",
            " [1. 0. 0.]\n",
            " [1. 0. 0.]\n",
            " [1. 0. 0.]\n",
            " [1. 0. 0.]\n",
            " [1. 0. 0.]\n",
            " [1. 0. 0.]\n",
            " [1. 0. 0.]\n",
            " [1. 0. 0.]\n",
            " [1. 0. 0.]\n",
            " [1. 0. 0.]\n",
            " [1. 0. 0.]]\n"
          ]
        }
      ]
    },
    {
      "cell_type": "code",
      "source": [
        "from sklearn.model_selection import train_test_split\n",
        "\n",
        "x_train, x_test, t_train, t_test = train_test_split(x, t, train_size=0.75)\n",
        "\n",
        "print(t_train.shape)"
      ],
      "metadata": {
        "colab": {
          "base_uri": "https://localhost:8080/"
        },
        "id": "qMToRjRvxoLY",
        "outputId": "105c6b11-34fc-4af6-ded6-e82043d6765c"
      },
      "execution_count": 9,
      "outputs": [
        {
          "output_type": "stream",
          "name": "stdout",
          "text": [
            "(112, 3)\n"
          ]
        }
      ]
    },
    {
      "cell_type": "markdown",
      "source": [
        "##モデルの構築"
      ],
      "metadata": {
        "id": "aloJgAsXzKvO"
      }
    },
    {
      "cell_type": "code",
      "source": [
        "from keras.models import Sequential\n",
        "from keras.layers import Dense, Activation\n",
        "\n",
        "model = Sequential()\n",
        "model.add(Dense(32, input_dim=4))\n",
        "model.add(Activation('relu'))\n",
        "model.add(Dense(32))\n",
        "model.add(Activation('relu'))\n",
        "model.add(Dense(3))\n",
        "model.add(Activation('softmax'))\n",
        "model.compile(optimizer='sgd', loss='categorical_crossentropy', metrics=['accuracy'])\n",
        "\n",
        "print(model.summary())"
      ],
      "metadata": {
        "colab": {
          "base_uri": "https://localhost:8080/"
        },
        "id": "3pc6PuFTzNqu",
        "outputId": "fa212b86-4316-48d0-fb70-0247fb96c5d5"
      },
      "execution_count": 10,
      "outputs": [
        {
          "output_type": "stream",
          "name": "stdout",
          "text": [
            "Model: \"sequential\"\n",
            "_________________________________________________________________\n",
            " Layer (type)                Output Shape              Param #   \n",
            "=================================================================\n",
            " dense (Dense)               (None, 32)                160       \n",
            "                                                                 \n",
            " activation (Activation)     (None, 32)                0         \n",
            "                                                                 \n",
            " dense_1 (Dense)             (None, 32)                1056      \n",
            "                                                                 \n",
            " activation_1 (Activation)   (None, 32)                0         \n",
            "                                                                 \n",
            " dense_2 (Dense)             (None, 3)                 99        \n",
            "                                                                 \n",
            " activation_2 (Activation)   (None, 3)                 0         \n",
            "                                                                 \n",
            "=================================================================\n",
            "Total params: 1,315\n",
            "Trainable params: 1,315\n",
            "Non-trainable params: 0\n",
            "_________________________________________________________________\n",
            "None\n"
          ]
        }
      ]
    },
    {
      "cell_type": "code",
      "source": [
        "history = model.fit(x_train, t_train, epochs=30, batch_size=8)"
      ],
      "metadata": {
        "colab": {
          "base_uri": "https://localhost:8080/"
        },
        "id": "Rh_Rrr5B4YFd",
        "outputId": "d61c8dcd-c212-4022-ee43-07d3f25041ce"
      },
      "execution_count": 11,
      "outputs": [
        {
          "output_type": "stream",
          "name": "stdout",
          "text": [
            "Epoch 1/30\n",
            "14/14 [==============================] - 1s 2ms/step - loss: 1.1992 - accuracy: 0.0804\n",
            "Epoch 2/30\n",
            "14/14 [==============================] - 0s 2ms/step - loss: 1.1057 - accuracy: 0.2679\n",
            "Epoch 3/30\n",
            "14/14 [==============================] - 0s 2ms/step - loss: 1.0289 - accuracy: 0.4286\n",
            "Epoch 4/30\n",
            "14/14 [==============================] - 0s 2ms/step - loss: 0.9622 - accuracy: 0.6429\n",
            "Epoch 5/30\n",
            "14/14 [==============================] - 0s 2ms/step - loss: 0.9023 - accuracy: 0.7411\n",
            "Epoch 6/30\n",
            "14/14 [==============================] - 0s 2ms/step - loss: 0.8480 - accuracy: 0.7857\n",
            "Epoch 7/30\n",
            "14/14 [==============================] - 0s 2ms/step - loss: 0.7977 - accuracy: 0.8304\n",
            "Epoch 8/30\n",
            "14/14 [==============================] - 0s 2ms/step - loss: 0.7517 - accuracy: 0.8393\n",
            "Epoch 9/30\n",
            "14/14 [==============================] - 0s 2ms/step - loss: 0.7092 - accuracy: 0.8482\n",
            "Epoch 10/30\n",
            "14/14 [==============================] - 0s 2ms/step - loss: 0.6716 - accuracy: 0.8393\n",
            "Epoch 11/30\n",
            "14/14 [==============================] - 0s 2ms/step - loss: 0.6350 - accuracy: 0.8393\n",
            "Epoch 12/30\n",
            "14/14 [==============================] - 0s 2ms/step - loss: 0.6023 - accuracy: 0.8393\n",
            "Epoch 13/30\n",
            "14/14 [==============================] - 0s 2ms/step - loss: 0.5719 - accuracy: 0.8482\n",
            "Epoch 14/30\n",
            "14/14 [==============================] - 0s 2ms/step - loss: 0.5435 - accuracy: 0.8482\n",
            "Epoch 15/30\n",
            "14/14 [==============================] - 0s 2ms/step - loss: 0.5179 - accuracy: 0.8482\n",
            "Epoch 16/30\n",
            "14/14 [==============================] - 0s 2ms/step - loss: 0.4940 - accuracy: 0.8482\n",
            "Epoch 17/30\n",
            "14/14 [==============================] - 0s 2ms/step - loss: 0.4726 - accuracy: 0.8571\n",
            "Epoch 18/30\n",
            "14/14 [==============================] - 0s 2ms/step - loss: 0.4527 - accuracy: 0.8571\n",
            "Epoch 19/30\n",
            "14/14 [==============================] - 0s 2ms/step - loss: 0.4346 - accuracy: 0.8571\n",
            "Epoch 20/30\n",
            "14/14 [==============================] - 0s 2ms/step - loss: 0.4173 - accuracy: 0.8750\n",
            "Epoch 21/30\n",
            "14/14 [==============================] - 0s 3ms/step - loss: 0.4017 - accuracy: 0.8750\n",
            "Epoch 22/30\n",
            "14/14 [==============================] - 0s 2ms/step - loss: 0.3872 - accuracy: 0.8929\n",
            "Epoch 23/30\n",
            "14/14 [==============================] - 0s 2ms/step - loss: 0.3737 - accuracy: 0.8929\n",
            "Epoch 24/30\n",
            "14/14 [==============================] - 0s 2ms/step - loss: 0.3615 - accuracy: 0.9196\n",
            "Epoch 25/30\n",
            "14/14 [==============================] - 0s 2ms/step - loss: 0.3501 - accuracy: 0.9286\n",
            "Epoch 26/30\n",
            "14/14 [==============================] - 0s 2ms/step - loss: 0.3398 - accuracy: 0.9286\n",
            "Epoch 27/30\n",
            "14/14 [==============================] - 0s 2ms/step - loss: 0.3308 - accuracy: 0.9286\n",
            "Epoch 28/30\n",
            "14/14 [==============================] - 0s 2ms/step - loss: 0.3207 - accuracy: 0.9286\n",
            "Epoch 29/30\n",
            "14/14 [==============================] - 0s 2ms/step - loss: 0.3123 - accuracy: 0.9286\n",
            "Epoch 30/30\n",
            "14/14 [==============================] - 0s 2ms/step - loss: 0.3037 - accuracy: 0.9286\n"
          ]
        }
      ]
    },
    {
      "cell_type": "markdown",
      "source": [
        "##学習の推移"
      ],
      "metadata": {
        "id": "YbKW5sbJ5NRq"
      }
    },
    {
      "cell_type": "code",
      "source": [
        "import matplotlib.pyplot as plt\n",
        "\n",
        "hist_loss = history.history['loss']\n",
        "hist_acc = history.history['accuracy']\n",
        "\n",
        "plt.plot(np.arange(len(hist_loss)),hist_loss, label='loss')\n",
        "plt.plot(np.arange(len(hist_acc)),hist_acc, label='acc')\n",
        "plt.legend()\n",
        "\n",
        "plt.show()"
      ],
      "metadata": {
        "colab": {
          "base_uri": "https://localhost:8080/",
          "height": 265
        },
        "id": "eD3j3G8U5HTw",
        "outputId": "c64d8559-0a86-4603-c2e8-f64da71dc484"
      },
      "execution_count": 13,
      "outputs": [
        {
          "output_type": "display_data",
          "data": {
            "text/plain": [
              "<Figure size 432x288 with 1 Axes>"
            ],
            "image/png": "[encoded data removed]"
          },
          "metadata": {
            "needs_background": "light"
          }
        }
      ]
    },
    {
      "cell_type": "markdown",
      "source": [
        "##評価"
      ],
      "metadata": {
        "id": "SWc_7ech6FIH"
      }
    },
    {
      "cell_type": "code",
      "source": [
        "loss, accuracy = model.evaluate(x_test, t_test)\n",
        "print(loss, accuracy)"
      ],
      "metadata": {
        "colab": {
          "base_uri": "https://localhost:8080/"
        },
        "id": "Xd_3VQKn6Hpx",
        "outputId": "f0f06cbf-4022-4b77-f15a-1be2ab47ba27"
      },
      "execution_count": 14,
      "outputs": [
        {
          "output_type": "stream",
          "name": "stdout",
          "text": [
            "2/2 [==============================] - 0s 7ms/step - loss: 0.2996 - accuracy: 0.8947\n",
            "0.2996103763580322 0.8947368264198303\n"
          ]
        }
      ]
    },
    {
      "cell_type": "markdown",
      "source": [
        "##予測"
      ],
      "metadata": {
        "id": "rU5l2bMb6iWy"
      }
    },
    {
      "cell_type": "code",
      "source": [
        "model.predict(x_test)"
      ],
      "metadata": {
        "colab": {
          "base_uri": "https://localhost:8080/"
        },
        "id": "EoHX54Pi6k1D",
        "outputId": "34682f84-c15d-491d-8ce0-e4e0fa8e5d7f"
      },
      "execution_count": 15,
      "outputs": [
        {
          "output_type": "stream",
          "name": "stdout",
          "text": [
            "2/2 [==============================] - 0s 5ms/step\n"
          ]
        },
        {
          "output_type": "execute_result",
          "data": {
            "text/plain": [
              "array([[0.9698033 , 0.01953395, 0.01066275],\n",
              "       [0.11743294, 0.39441472, 0.4881524 ],\n",
              "       [0.97421587, 0.01777238, 0.00801187],\n",
              "       [0.94324744, 0.03894001, 0.01781257],\n",
              "       [0.9374267 , 0.05063761, 0.01193563],\n",
              "       [0.06650797, 0.33473736, 0.59875476],\n",
              "       [0.9900267 , 0.00649081, 0.0034825 ],\n",
              "       [0.961061  , 0.02646334, 0.01247554],\n",
              "       [0.03626267, 0.1648514 , 0.7988859 ],\n",
              "       [0.05826135, 0.24018262, 0.70155597],\n",
              "       [0.97587603, 0.01688245, 0.00724152],\n",
              "       [0.10720807, 0.78320783, 0.1095841 ],\n",
              "       [0.04121944, 0.12852602, 0.83025455],\n",
              "       [0.01861504, 0.08733487, 0.89405   ],\n",
              "       [0.96647817, 0.02181662, 0.01170508],\n",
              "       [0.04601146, 0.27069414, 0.6832944 ],\n",
              "       [0.07871576, 0.28223258, 0.63905156],\n",
              "       [0.07925199, 0.30016416, 0.62058383],\n",
              "       [0.02976004, 0.09838387, 0.87185603],\n",
              "       [0.04374914, 0.36105317, 0.5951977 ],\n",
              "       [0.96604943, 0.02380948, 0.010141  ],\n",
              "       [0.07628986, 0.28410137, 0.63960886],\n",
              "       [0.03232214, 0.1486333 , 0.81904465],\n",
              "       [0.03661671, 0.10128631, 0.862097  ],\n",
              "       [0.9731133 , 0.01870476, 0.00818186],\n",
              "       [0.08669736, 0.8599321 , 0.05337046],\n",
              "       [0.03599077, 0.8058357 , 0.1581735 ],\n",
              "       [0.10818521, 0.3407907 , 0.5510241 ],\n",
              "       [0.01976794, 0.08861734, 0.8916147 ],\n",
              "       [0.08110561, 0.82745475, 0.09143951],\n",
              "       [0.05460647, 0.80467296, 0.14072056],\n",
              "       [0.13647534, 0.65523034, 0.20829433],\n",
              "       [0.05565122, 0.18035191, 0.7639969 ],\n",
              "       [0.9326656 , 0.05570183, 0.01163257],\n",
              "       [0.06045047, 0.844546  , 0.09500357],\n",
              "       [0.02066497, 0.08144408, 0.8978909 ],\n",
              "       [0.9782063 , 0.01478767, 0.00700596],\n",
              "       [0.12793216, 0.7838075 , 0.08826034]], dtype=float32)"
            ]
          },
          "metadata": {},
          "execution_count": 15
        }
      ]
    },
    {
      "cell_type": "markdown",
      "source": [
        "##学習済みモデルの保存"
      ],
      "metadata": {
        "id": "eiJXJMQ56-Pr"
      }
    },
    {
      "cell_type": "code",
      "source": [
        "from keras.models import load_model\n",
        "\n",
        "model.save('model.h5')\n",
        "load_model('model.h5')"
      ],
      "metadata": {
        "colab": {
          "base_uri": "https://localhost:8080/"
        },
        "id": "bIGZG-kH7Bif",
        "outputId": "c24c2169-4ff1-41ed-d55c-e390b16876f6"
      },
      "execution_count": 16,
      "outputs": [
        {
          "output_type": "execute_result",
          "data": {
            "text/plain": [
              "<keras.engine.sequential.Sequential at 0x7f3b3f853fd0>"
            ]
          },
          "metadata": {},
          "execution_count": 16
        }
      ]
    }
  ]
}